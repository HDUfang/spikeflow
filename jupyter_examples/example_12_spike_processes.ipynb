{
 "cells": [
  {
   "cell_type": "markdown",
   "metadata": {},
   "source": [
    "# spike processes: basically just lists of timesteps at which neurons fired"
   ]
  },
  {
   "cell_type": "code",
   "execution_count": 1,
   "metadata": {
    "collapsed": false
   },
   "outputs": [
    {
     "name": "stderr",
     "output_type": "stream",
     "text": [
      "/Applications/Anaconda/anaconda/envs/mlbook/lib/python3.6/site-packages/h5py/__init__.py:34: FutureWarning: Conversion of the second argument of issubdtype from `float` to `np.floating` is deprecated. In future, it will be treated as `np.float64 == np.dtype(float).type`.\n",
      "  from ._conv import register_converters as _register_converters\n"
     ]
    }
   ],
   "source": [
    "import numpy as np\n",
    "from spikeflow import firing_to_spike_process, firings_to_spike_processes\n",
    "from spikeflow import spike_process_to_firing, spike_processes_to_firings\n",
    "from spikeflow import spike_process_delta_times"
   ]
  },
  {
   "cell_type": "markdown",
   "metadata": {},
   "source": [
    "# Create a couple firing records"
   ]
  },
  {
   "cell_type": "code",
   "execution_count": 2,
   "metadata": {
    "collapsed": false
   },
   "outputs": [
    {
     "name": "stdout",
     "output_type": "stream",
     "text": [
      "firing 1: (8,) [ True False False  True False False False  True]\n",
      "firing 2: (8,) [False False  True False False  True  True False]\n"
     ]
    }
   ],
   "source": [
    "f1 = np.array([True, False, False, True, False, False, False, True])\n",
    "f2 = np.array([False, False, True, False, False, True, True, False])\n",
    "print('firing 1:', f1.shape, f1)\n",
    "print('firing 2:', f2.shape, f2)"
   ]
  },
  {
   "cell_type": "markdown",
   "metadata": {},
   "source": [
    "# Convert the firing records to spike processes"
   ]
  },
  {
   "cell_type": "code",
   "execution_count": 3,
   "metadata": {
    "collapsed": false
   },
   "outputs": [
    {
     "name": "stdout",
     "output_type": "stream",
     "text": [
      "spike process 1: (3,) [0 3 7]\n",
      "spike process 2: (3,) [2 5 6]\n"
     ]
    }
   ],
   "source": [
    "s1 = firing_to_spike_process(f1)\n",
    "s2 = firing_to_spike_process(f2)\n",
    "print('spike process 1:', s1.shape, s1)\n",
    "print('spike process 2:', s2.shape, s2)"
   ]
  },
  {
   "cell_type": "markdown",
   "metadata": {},
   "source": [
    "# Convert a spike processes back to firing record"
   ]
  },
  {
   "cell_type": "code",
   "execution_count": 4,
   "metadata": {
    "collapsed": false
   },
   "outputs": [
    {
     "name": "stdout",
     "output_type": "stream",
     "text": [
      "recovered firing: (8,) [ True False False  True False False False  True]\n"
     ]
    }
   ],
   "source": [
    "rf1 = spike_process_to_firing(s1)\n",
    "print('recovered firing:', rf1.shape, rf1)"
   ]
  },
  {
   "cell_type": "markdown",
   "metadata": {},
   "source": [
    "# Create a firings record (for multiple neurons)"
   ]
  },
  {
   "cell_type": "code",
   "execution_count": 5,
   "metadata": {
    "collapsed": false
   },
   "outputs": [
    {
     "name": "stdout",
     "output_type": "stream",
     "text": [
      "firings: (8, 2)\n",
      "[[ True False]\n",
      " [False False]\n",
      " [False  True]\n",
      " [ True False]\n",
      " [False False]\n",
      " [False  True]\n",
      " [False  True]\n",
      " [ True False]]\n"
     ]
    }
   ],
   "source": [
    "tf = np.vstack([f1, f2]).T\n",
    "print('firings:', tf.shape)\n",
    "print(tf)"
   ]
  },
  {
   "cell_type": "markdown",
   "metadata": {},
   "source": [
    "# Convert a firings record to (multiple) spike processes"
   ]
  },
  {
   "cell_type": "code",
   "execution_count": 6,
   "metadata": {
    "collapsed": false
   },
   "outputs": [
    {
     "name": "stdout",
     "output_type": "stream",
     "text": [
      "spike processes: 2\n",
      "[array([0, 3, 7]), array([2, 5, 6])]\n"
     ]
    }
   ],
   "source": [
    "s = firings_to_spike_processes(tf)\n",
    "print('spike processes:', len(s))\n",
    "print(s)"
   ]
  },
  {
   "cell_type": "markdown",
   "metadata": {},
   "source": [
    "# Convert spike processes back to firings record"
   ]
  },
  {
   "cell_type": "code",
   "execution_count": 7,
   "metadata": {
    "collapsed": false
   },
   "outputs": [
    {
     "name": "stdout",
     "output_type": "stream",
     "text": [
      "Recovered firings shape (8, 2)\n",
      "[[ True False]\n",
      " [False False]\n",
      " [False  True]\n",
      " [ True False]\n",
      " [False False]\n",
      " [False  True]\n",
      " [False  True]\n",
      " [ True False]]\n"
     ]
    }
   ],
   "source": [
    "rf = spike_processes_to_firings(s)\n",
    "print('Recovered firings shape', rf.shape)\n",
    "print(rf)"
   ]
  },
  {
   "cell_type": "markdown",
   "metadata": {},
   "source": [
    "# Same, but pad length to something"
   ]
  },
  {
   "cell_type": "code",
   "execution_count": 8,
   "metadata": {
    "collapsed": false
   },
   "outputs": [
    {
     "name": "stdout",
     "output_type": "stream",
     "text": [
      "Recovered firings shape (12, 2)\n",
      "[[ True False]\n",
      " [False False]\n",
      " [False  True]\n",
      " [ True False]\n",
      " [False False]\n",
      " [False  True]\n",
      " [False  True]\n",
      " [ True False]\n",
      " [False False]\n",
      " [False False]\n",
      " [False False]\n",
      " [False False]]\n"
     ]
    }
   ],
   "source": [
    "rf = spike_processes_to_firings(s, max_length=12)\n",
    "print('Recovered firings shape', rf.shape)\n",
    "print(rf)"
   ]
  },
  {
   "cell_type": "markdown",
   "metadata": {},
   "source": [
    "# padding uses max of max_length and max of spike processe (so max lengths < max(spike_processes) has no effect)"
   ]
  },
  {
   "cell_type": "code",
   "execution_count": 9,
   "metadata": {
    "collapsed": false
   },
   "outputs": [
    {
     "name": "stdout",
     "output_type": "stream",
     "text": [
      "Recovered firings shape (8, 2)\n",
      "[[ True False]\n",
      " [False False]\n",
      " [False  True]\n",
      " [ True False]\n",
      " [False False]\n",
      " [False  True]\n",
      " [False  True]\n",
      " [ True False]]\n"
     ]
    }
   ],
   "source": [
    "rf = spike_processes_to_firings(s, max_length=4)\n",
    "print('Recovered firings shape', rf.shape)\n",
    "print(rf)"
   ]
  },
  {
   "cell_type": "markdown",
   "metadata": {},
   "source": [
    "# For kicks, compute delta times between two spike processes"
   ]
  },
  {
   "cell_type": "code",
   "execution_count": 10,
   "metadata": {
    "collapsed": false
   },
   "outputs": [
    {
     "name": "stdout",
     "output_type": "stream",
     "text": [
      "Delta times shape (9,)\n",
      "[ 2  5  6 -1  2  3 -5 -2 -1]\n"
     ]
    }
   ],
   "source": [
    "delta_times = spike_process_delta_times(s1, s2)\n",
    "print('Delta times shape', delta_times.shape)\n",
    "print(delta_times)"
   ]
  }
 ],
 "metadata": {
  "kernelspec": {
   "display_name": "Python 3",
   "language": "python",
   "name": "python3"
  },
  "language_info": {
   "codemirror_mode": {
    "name": "ipython",
    "version": 3
   },
   "file_extension": ".py",
   "mimetype": "text/x-python",
   "name": "python",
   "nbconvert_exporter": "python",
   "pygments_lexer": "ipython3",
   "version": "3.6.0"
  },
  "toc": {
   "colors": {
    "hover_highlight": "#DAA520",
    "running_highlight": "#FF0000",
    "selected_highlight": "#FFD700"
   },
   "moveMenuLeft": true,
   "nav_menu": {
    "height": "175px",
    "width": "252px"
   },
   "navigate_menu": true,
   "number_sections": true,
   "sideBar": true,
   "threshold": 4,
   "toc_cell": false,
   "toc_section_display": "block",
   "toc_window_display": false,
   "widenNotebook": false
  }
 },
 "nbformat": 4,
 "nbformat_minor": 2
}
