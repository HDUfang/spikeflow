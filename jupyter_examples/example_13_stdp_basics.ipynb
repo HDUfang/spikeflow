{
 "cells": [
  {
   "cell_type": "markdown",
   "metadata": {},
   "source": [
    "# STDP Basics, 'offline'\n",
    "\n",
    "Demonstrates calculate dw from the stdp learning rule, applied to spike processes and firing records (as can be obtained from the model.step_time end timestep callback)."
   ]
  },
  {
   "cell_type": "code",
   "execution_count": 1,
   "metadata": {
    "collapsed": false
   },
   "outputs": [
    {
     "name": "stderr",
     "output_type": "stream",
     "text": [
      "/Applications/Anaconda/anaconda/envs/mlbook/lib/python3.6/site-packages/h5py/__init__.py:34: FutureWarning: Conversion of the second argument of issubdtype from `float` to `np.floating` is deprecated. In future, it will be treated as `np.float64 == np.dtype(float).type`.\n",
      "  from ._conv import register_converters as _register_converters\n"
     ]
    }
   ],
   "source": [
    "import numpy as np\n",
    "from spikeflow import firing_to_spike_process, firings_to_spike_processes\n",
    "from spikeflow import spike_process_delta_times\n",
    "from spikeflow import STDPParams, stdp_offline_dw, stdp_offline_dw_process, stdp_offline_dw_processes, stdp_offline_dw_firings"
   ]
  },
  {
   "cell_type": "markdown",
   "metadata": {},
   "source": [
    "# Make some data: create a couple firing records and spike processes"
   ]
  },
  {
   "cell_type": "code",
   "execution_count": 2,
   "metadata": {
    "collapsed": false
   },
   "outputs": [
    {
     "name": "stdout",
     "output_type": "stream",
     "text": [
      "firing 1: (8,) [ True False False  True  True False False  True]\n",
      "firing 2: (8,) [False False  True False False  True  True False]\n",
      "spike process 1: (4,) [0 3 4 7]\n",
      "spike process 2: (3,) [2 5 6]\n"
     ]
    }
   ],
   "source": [
    "f1 = np.array([True, False, False, True, True, False, False, True])\n",
    "f2 = np.array([False, False, True, False, False, True, True, False])\n",
    "print('firing 1:', f1.shape, f1)\n",
    "print('firing 2:', f2.shape, f2)\n",
    "\n",
    "s1 = firing_to_spike_process(f1)\n",
    "s2 = firing_to_spike_process(f2)\n",
    "print('spike process 1:', s1.shape, s1)\n",
    "print('spike process 2:', s2.shape, s2)"
   ]
  },
  {
   "cell_type": "markdown",
   "metadata": {},
   "source": [
    "# Apply STDP learning rule to calculate change in weight in various ways"
   ]
  },
  {
   "cell_type": "code",
   "execution_count": 3,
   "metadata": {
    "collapsed": false
   },
   "outputs": [],
   "source": [
    "stdp_params = STDPParams(APlus=1.0, AMinus=1.0, TauPlus=10.0, TauMinus=10.0)"
   ]
  },
  {
   "cell_type": "markdown",
   "metadata": {},
   "source": [
    "## ... calculate from time deltas, to check the math"
   ]
  },
  {
   "cell_type": "code",
   "execution_count": 4,
   "metadata": {
    "collapsed": false
   },
   "outputs": [
    {
     "name": "stdout",
     "output_type": "stream",
     "text": [
      "Delta times shape (12,)\n",
      "[ 2  5  6 -1  2  3 -2  1  2 -5 -2 -1]\n",
      "dw  shape (12,)\n",
      "[ 0.81873075  0.60653066  0.54881164 -0.90483742  0.81873075  0.74081822\n",
      " -0.81873075  0.90483742  0.81873075 -0.60653066 -0.81873075 -0.90483742]\n"
     ]
    }
   ],
   "source": [
    "delta_times = spike_process_delta_times(s1, s2)\n",
    "print('Delta times shape', delta_times.shape)\n",
    "print(delta_times)\n",
    "\n",
    "dw = stdp_offline_dw(delta_times, stdp_params)\n",
    "print('dw  shape', dw.shape)\n",
    "print(dw)"
   ]
  },
  {
   "cell_type": "markdown",
   "metadata": {},
   "source": [
    "## ... directly from spike processes"
   ]
  },
  {
   "cell_type": "code",
   "execution_count": 5,
   "metadata": {
    "collapsed": false
   },
   "outputs": [
    {
     "name": "stdout",
     "output_type": "stream",
     "text": [
      "SUM dw from time deltas: 1.2035231918177673\n",
      "SUM dw from spike processes: 1.2035231918177673\n"
     ]
    }
   ],
   "source": [
    "dw_p = stdp_offline_dw_process(s1, s2, stdp_params)\n",
    "print('SUM dw from time deltas:', sum(dw))\n",
    "print('SUM dw from spike processes:', dw_p)"
   ]
  },
  {
   "cell_type": "markdown",
   "metadata": {},
   "source": [
    "## ... but like a 1x1 weight matrix"
   ]
  },
  {
   "cell_type": "code",
   "execution_count": 6,
   "metadata": {
    "collapsed": false
   },
   "outputs": [
    {
     "name": "stdout",
     "output_type": "stream",
     "text": [
      "dW  shape (1, 1)\n",
      "[[1.2035232]]\n"
     ]
    }
   ],
   "source": [
    "dW = stdp_offline_dw_processes(np.ones((1,1), dtype=np.float32), [s1], [s2], stdp_params)\n",
    "print('dW  shape', dW.shape)\n",
    "print(dW)"
   ]
  },
  {
   "cell_type": "markdown",
   "metadata": {},
   "source": [
    "## ... or like a bigger, sparse weight matrix"
   ]
  },
  {
   "cell_type": "code",
   "execution_count": 7,
   "metadata": {
    "collapsed": false
   },
   "outputs": [
    {
     "name": "stdout",
     "output_type": "stream",
     "text": [
      "W  shape (2, 3)\n",
      "[[1. 0. 0.]\n",
      " [0. 1. 1.]]\n",
      "dW  shape (2, 3)\n",
      "[[1.2035232 0.        0.       ]\n",
      " [0.        1.2035232 0.       ]]\n"
     ]
    }
   ],
   "source": [
    "W = np.array([[1, 0, 0], [0, 1, 1]], dtype=np.float32)\n",
    "dW = stdp_offline_dw_processes(W, [s1, s1], [s2, s2, s1], stdp_params)\n",
    "print('W  shape', W.shape)\n",
    "print(W)\n",
    "print('dW  shape', dW.shape)\n",
    "print(dW)"
   ]
  },
  {
   "cell_type": "markdown",
   "metadata": {},
   "source": [
    "## ... same but from firing matrices\n",
    "\n",
    "(as can be extracted from model.step_time's end timestep callback)"
   ]
  },
  {
   "cell_type": "code",
   "execution_count": 8,
   "metadata": {
    "collapsed": false
   },
   "outputs": [
    {
     "name": "stdout",
     "output_type": "stream",
     "text": [
      "f_in  shape (8, 2)\n",
      "f_out  shape (8, 3)\n",
      "dWf  shape (2, 3)\n",
      "[[1.2035232 0.        0.       ]\n",
      " [0.        1.2035232 0.       ]]\n"
     ]
    }
   ],
   "source": [
    "f_in = np.vstack([f1, f1]).T\n",
    "f_out = np.vstack([f2, f2, f1]).T\n",
    "print('f_in  shape', f_in.shape)\n",
    "print('f_out  shape', f_out.shape)\n",
    "\n",
    "dWf = stdp_offline_dw_firings(W, f_in, f_out, stdp_params)\n",
    "print('dWf  shape', dWf.shape)\n",
    "print(dWf)"
   ]
  }
 ],
 "metadata": {
  "kernelspec": {
   "display_name": "Python 3",
   "language": "python",
   "name": "python3"
  },
  "language_info": {
   "codemirror_mode": {
    "name": "ipython",
    "version": 3
   },
   "file_extension": ".py",
   "mimetype": "text/x-python",
   "name": "python",
   "nbconvert_exporter": "python",
   "pygments_lexer": "ipython3",
   "version": "3.6.0"
  },
  "toc": {
   "colors": {
    "hover_highlight": "#DAA520",
    "running_highlight": "#FF0000",
    "selected_highlight": "#FFD700"
   },
   "moveMenuLeft": true,
   "nav_menu": {
    "height": "175px",
    "width": "252px"
   },
   "navigate_menu": true,
   "number_sections": true,
   "sideBar": true,
   "threshold": 4,
   "toc_cell": false,
   "toc_section_display": "block",
   "toc_window_display": false,
   "widenNotebook": false
  }
 },
 "nbformat": 4,
 "nbformat_minor": 2
}
