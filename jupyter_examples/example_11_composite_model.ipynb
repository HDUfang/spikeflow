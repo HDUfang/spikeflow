{
 "cells": [
  {
   "cell_type": "markdown",
   "metadata": {},
   "source": [
    "# composite models: two 'columns', each containing two neuron layers"
   ]
  },
  {
   "cell_type": "code",
   "execution_count": 1,
   "metadata": {
    "collapsed": false
   },
   "outputs": [
    {
     "name": "stderr",
     "output_type": "stream",
     "text": [
      "/Applications/Anaconda/anaconda/envs/mlbook/lib/python3.6/site-packages/h5py/__init__.py:34: FutureWarning: Conversion of the second argument of issubdtype from `float` to `np.floating` is deprecated. In future, it will be treated as `np.float64 == np.dtype(float).type`.\n",
      "  from ._conv import register_converters as _register_converters\n"
     ]
    }
   ],
   "source": [
    "import numpy as np\n",
    "from spikeflow import BPNNModel, CompositeLayer, IzhikevichNeuronLayer\n",
    "from spikeflow import Synapse, ComplexSynapseLayer\n",
    "from spikeflow import weights_connecting_from_to, weights_from_synapses, delays_for_weights\n",
    "from spikeflow import identical_sampler, normal_sampler, normal_ints_sampler\n",
    "from spikeflow.drawing_utils.trace_renderers import *"
   ]
  },
  {
   "cell_type": "markdown",
   "metadata": {},
   "source": [
    "# Create a model with two 'groups' ('columns'?) of neuron layers - each group has one recurrently-connected neuron layer, connecting to one 'decoder' layer. First group connects to second group."
   ]
  },
  {
   "cell_type": "code",
   "execution_count": 2,
   "metadata": {
    "collapsed": false,
    "scrolled": false
   },
   "outputs": [
    {
     "name": "stdout",
     "output_type": "stream",
     "text": [
      "{'cl0': {'nl0': ['input', 'v', 'u', 'fired'], 'nl1': ['input', 'v', 'u', 'fired'], 'rec_syn': ['input', 'output'], 'forward_syn': ['input', 'output']}, 'cl1': {'nl0': ['input', 'v', 'u', 'fired'], 'nl1': ['input', 'v', 'u', 'fired'], 'rec_syn': ['input', 'output'], 'forward_syn': ['input', 'output']}, 'cl0_to_cl1': ['input', 'output']}\n"
     ]
    }
   ],
   "source": [
    "model_input_shape = (3,)\n",
    "\n",
    "def create_composite_layer(name):\n",
    "    \n",
    "    neuron_layer_0 = IzhikevichNeuronLayer.layer_from_tuples('nl0', [\n",
    "        IzhikevichNeuronLayer.C(a=0.030, b=0.2, c=-65.0, d=6.0, t=30.0, v0=0.0),\n",
    "        IzhikevichNeuronLayer.C(a=0.035, b=0.2, c=-65.0, d=6.0, t=30.0, v0=0.0),\n",
    "        IzhikevichNeuronLayer.C(a=0.020, b=0.2, c=-65.0, d=6.0, t=30.0, v0=0.0),\n",
    "    ])\n",
    "\n",
    "    neuron_layer_1 = IzhikevichNeuronLayer.layer_from_tuples('nl1', [\n",
    "        IzhikevichNeuronLayer.C(a=0.010, b=0.2, c=-65.0, d=6.0, t=30.0, v0=0.0),\n",
    "        IzhikevichNeuronLayer.C(a=0.015, b=0.2, c=-65.0, d=6.0, t=30.0, v0=0.0)\n",
    "    ])\n",
    "\n",
    "    recurrent_weights = weights_connecting_from_to(\n",
    "        neuron_layer_0, \n",
    "        neuron_layer_0, \n",
    "        1.0, \n",
    "        normal_sampler(2.0, 1.0))\n",
    "\n",
    "    recurrent_connection = ComplexSynapseLayer(\n",
    "        name = 'rec_syn',\n",
    "        from_layer = neuron_layer_0, \n",
    "        to_layer = neuron_layer_0, \n",
    "        decay = 0.95, \n",
    "        weights = recurrent_weights,\n",
    "        delay = delays_for_weights(recurrent_weights, normal_ints_sampler(10, 5))\n",
    "    )\n",
    "            \n",
    "    forward_connection = ComplexSynapseLayer(\n",
    "        name = 'forward_syn',\n",
    "        from_layer = neuron_layer_0, \n",
    "        to_layer = neuron_layer_1, \n",
    "        decay = 0.95, \n",
    "        delay = np.array([[5, 10], [8, 4], [3, 7]]),\n",
    "        weights = weights_from_synapses(neuron_layer_0, neuron_layer_1, [\n",
    "            Synapse(0, 0, 5.0),\n",
    "            Synapse(1, 0, 10.0),\n",
    "            Synapse(2, 0, 15.0),\n",
    "            Synapse(0, 1, 8.0),\n",
    "            Synapse(1, 1, 10.0),\n",
    "            Synapse(2, 1, 12.0)\n",
    "        ])\n",
    "    )\n",
    "\n",
    "    return CompositeLayer(name, \n",
    "                          [neuron_layer_0, neuron_layer_1], \n",
    "                          [recurrent_connection, forward_connection])\n",
    "\n",
    "cl0 = create_composite_layer('cl0')\n",
    "cl1 = create_composite_layer('cl1')\n",
    "\n",
    "cl0_to_cl1 = ComplexSynapseLayer(\n",
    "    name = 'cl0_to_cl1',\n",
    "    from_layer = cl0, \n",
    "    to_layer = cl1, \n",
    "    decay = 0.95, \n",
    "    delay = 50,\n",
    "    weights = weights_from_synapses(cl0, cl1, [\n",
    "        Synapse(0, 0, 5.0),\n",
    "        Synapse(0, 1, 10.0),\n",
    "        Synapse(0, 2, 15.0),\n",
    "        Synapse(1, 0, 8.0),\n",
    "        Synapse(1, 1, 10.0),\n",
    "        Synapse(1, 2, 12.0)\n",
    "    ]))\n",
    "\n",
    "model = BPNNModel.compiled_model(model_input_shape, [cl0, cl1], [cl0_to_cl1])\n",
    "\n",
    "print(model.ops_format())"
   ]
  },
  {
   "cell_type": "markdown",
   "metadata": {},
   "source": [
    "# Run the model for 2000 timesteps"
   ]
  },
  {
   "cell_type": "code",
   "execution_count": null,
   "metadata": {
    "collapsed": false,
    "scrolled": false
   },
   "outputs": [],
   "source": [
    "traces = []\n",
    "def end_time_step_callback(i, graph, sess, results):\n",
    "    traces.append(results)\n",
    "    \n",
    "def data_generator():\n",
    "    for i in range(0, 2000):\n",
    "        yield np.ones(3,)*(7 if (i > 1200 and i < 1800) else 0)\n",
    "    \n",
    "model.run_time(data_generator(), end_time_step_callback)"
   ]
  },
  {
   "cell_type": "markdown",
   "metadata": {},
   "source": [
    "# Extract the data we want and display"
   ]
  },
  {
   "cell_type": "code",
   "execution_count": null,
   "metadata": {
    "collapsed": false,
    "scrolled": false
   },
   "outputs": [],
   "source": [
    "neuron_layer_0_traces = np.array([r['cl0']['nl0'] for r in traces])\n",
    "neuron_layer_1_traces = np.array([r['cl0']['nl1'] for r in traces])\n",
    "neuron_layer_2_traces = np.array([r['cl1']['nl0'] for r in traces])\n",
    "neuron_layer_3_traces = np.array([r['cl1']['nl1'] for r in traces])\n",
    "\n",
    "render_figure([IzhikevichNeuronTraceRenderer(neuron_layer_0_traces, 'Composite 0, Layer 0 Neuron'),\n",
    "               NeuronFiringsRenderer(neuron_layer_0_traces[:,3,:], 30, 'Composite 0, Layer 0 Firings'),\n",
    "               IzhikevichNeuronTraceRenderer(neuron_layer_1_traces, 'Composite 0, Layer 1 Neuron'), \n",
    "               NeuronFiringsRenderer(neuron_layer_1_traces[:,3,:], 30,'Composite 0, Layer 1 Firings'),\n",
    "               IzhikevichNeuronTraceRenderer(neuron_layer_2_traces, 'Composite 1, Layer 0 Neuron'), \n",
    "               NeuronFiringsRenderer(neuron_layer_2_traces[:,3,:], 30,'Composite 1, Layer 0 Firings'),\n",
    "               IzhikevichNeuronTraceRenderer(neuron_layer_3_traces, 'Composite 1, Layer 1 Neuron'), \n",
    "               NeuronFiringsRenderer(neuron_layer_3_traces[:,3,:], 30,'Composite 1, Layer 1 Firings')\n",
    "              ],\n",
    "              1000, 2000, 100)"
   ]
  }
 ],
 "metadata": {
  "kernelspec": {
   "display_name": "Python 3",
   "language": "python",
   "name": "python3"
  },
  "language_info": {
   "codemirror_mode": {
    "name": "ipython",
    "version": 3
   },
   "file_extension": ".py",
   "mimetype": "text/x-python",
   "name": "python",
   "nbconvert_exporter": "python",
   "pygments_lexer": "ipython3",
   "version": "3.6.0"
  },
  "toc": {
   "colors": {
    "hover_highlight": "#DAA520",
    "running_highlight": "#FF0000",
    "selected_highlight": "#FFD700"
   },
   "moveMenuLeft": true,
   "nav_menu": {
    "height": "103px",
    "width": "252px"
   },
   "navigate_menu": true,
   "number_sections": true,
   "sideBar": true,
   "threshold": 4,
   "toc_cell": false,
   "toc_section_display": "block",
   "toc_window_display": false,
   "widenNotebook": false
  }
 },
 "nbformat": 4,
 "nbformat_minor": 2
}
